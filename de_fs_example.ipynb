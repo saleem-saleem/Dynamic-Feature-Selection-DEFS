# Step 1: Import Required Libraries
import numpy as np
import pandas as pd
from de_fs_algorithm import dynamic_feature_selection, evaluate_feature_subset
from visualization import plot_feature_importance
from cross_validation import evaluate_with_cross_validation

# Step 2: Load Dataset
# Replace with your dataset path or use a synthetic example.
from sklearn.datasets import make_classification
X, y = make_classification(n_samples=1000, n_features=20, n_informative=15, random_state=42)

# Step 3: Run DE-FS Algorithm
print("Running DE-FS Algorithm...")
selected_features = dynamic_feature_selection(X, y, max_iterations=10, initial_threshold=0.5)
print("Selected Features:", selected_features)

# Step 4: Evaluate the Selected Features
print("Evaluating Selected Features...")
accuracy = evaluate_feature_subset(X, y, selected_features)
print(f"Accuracy with Selected Features: {accuracy:.4f}")

# Step 5: Cross-Validation
print("Performing Cross-Validation...")
cv_score = evaluate_with_cross_validation(X, y, selected_features, cv=5)
print(f"Cross-Validation Score: {cv_score:.4f}")

# Step 6: Visualize Feature Importance
print("Visualizing Feature Importance...")
importance_scores = np.random.rand(20)  # Replace with actual importance scores
plot_feature_importance(importance_scores, feature_names=[f"F{i}" for i in range(20)])
